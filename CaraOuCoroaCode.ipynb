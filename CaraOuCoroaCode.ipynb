{
  "nbformat": 4,
  "nbformat_minor": 0,
  "metadata": {
    "colab": {
      "provenance": []
    },
    "kernelspec": {
      "name": "python3",
      "display_name": "Python 3"
    },
    "language_info": {
      "name": "python"
    }
  },
  "cells": [
    {
      "cell_type": "code",
      "execution_count": 15,
      "metadata": {
        "colab": {
          "base_uri": "https://localhost:8080/"
        },
        "id": "-oUdJm_3bv1j",
        "outputId": "bfaa5826-87a8-45bd-d826-6fc9ed48fa07"
      },
      "outputs": [
        {
          "output_type": "stream",
          "name": "stdout",
          "text": [
            "Cara\n"
          ]
        }
      ],
      "source": [
        "import random\n",
        "\n",
        "def cara_ou_coroa():\n",
        "  # Gera um número aleatório (0 ou 1) para representar cara ou coroa\n",
        "  resultado = random.randint(0,1)\n",
        "\n",
        "  # Verifica o resultado e exibe o resultado\n",
        "  if resultado == 0:\n",
        "    print(\"Cara\")\n",
        "  else:\n",
        "    print(\"Coroa\")\n",
        "\n",
        "# Chama a função para realizar a simulação\n",
        "cara_ou_coroa()"
      ]
    },
    {
      "cell_type": "code",
      "source": [],
      "metadata": {
        "id": "MMfu7-f2km8F"
      },
      "execution_count": null,
      "outputs": []
    }
  ]
}